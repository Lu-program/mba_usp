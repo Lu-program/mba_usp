{
 "cells": [
  {
   "cell_type": "markdown",
   "metadata": {},
   "source": [
    "1. Na análise de concessão de empréstimos, uma variável potencialmente importante é a\n",
    "renda da pessoa. O gerente de um banco coleta uma base de dados de seus correntistas e\n",
    "extrai a variável “renda mensal (R$)” para 50 pessoas. Embora se trate de uma variável\n",
    "quantitativa, deseja realizar uma análise por meio de tabela de frequências. Neste sentido,\n",
    "pede-se:\n",
    "a) Classifique os correntistas em faixas de renda, sendo: 0-2.000; 2.001-4.000; 4.001-\n",
    "6.000; 6.001-8.000; 8.001-10.000 e 10.001-12.000.\n",
    "b) Em seguida, elabore a tabela de frequências para as faixas de renda acima.\n",
    "O banco de dados está na planilha Lista de Exercício Complementares: aba Exercício 1."
   ]
  },
  {
   "cell_type": "markdown",
   "metadata": {},
   "source": [
    "2. Um analista do mercado acionário coletou os retornos mensais de duas ações que\n",
    "pretende indicar aos seus clientes. Calcule as estatísticas descritivas para as duas\n",
    "variáveis, incluindo o coeficiente de correlação entre os retornos. O banco de dados com\n",
    "os retornos percentuais mensais está na planilha Lista de Exercício Complementares: aba\n",
    "Exercício 2."
   ]
  },
  {
   "cell_type": "markdown",
   "metadata": {},
   "source": [
    "3. Em certo jogo, probabilidade de vitória (sucesso) a cada nova jogada é 1/6. Se forem\n",
    "feitas 10 jogadas, quais são as seguintes probabilidades:\n",
    "a) Ter vitória em 4 jogadas.\n",
    "b) Ter vitória em pelo menos 7 jogadas."
   ]
  },
  {
   "cell_type": "markdown",
   "metadata": {},
   "source": [
    "4. (Fonte: Fávero e Belfiore, 2024, Cap. 5) Suponha que um aluno acerte três questões a\n",
    "cada cinco testes. Seja X o número de tentativas até o décimo segundo acerto. Determine\n",
    "a probabilidade de que o aluno precise fazer 20 questões para acertar 12."
   ]
  },
  {
   "cell_type": "markdown",
   "metadata": {},
   "source": [
    "5. Suponha que, em determinado hospital, 3\n",
    "clientes são operados diariamente de cirurgia do estômago, seguindo uma distribuição\n",
    "Poisson. Calcule a probabilidade de que 28 clientes sejam operados na próxima semana\n",
    "(7 dias úteis).\n"
   ]
  },
  {
   "cell_type": "markdown",
   "metadata": {},
   "source": [
    "6.Nos últimos meses, foram feitas medições do tempo decorrido entre o início e\n",
    "finalização de uma das etapas do processo de produção de certo produto. O tempo médio\n",
    "foi calculado em 26,5 minutos e o desvio padrão foi de 4,0 minutos. Sabendo que tal\n",
    "variável segue uma distribuição normal, identifique as seguintes informações:\n",
    "a) P(X>37)\n",
    "b) P(X<20)\n",
    "c) P(22<X<28)"
   ]
  },
  {
   "cell_type": "markdown",
   "metadata": {},
   "source": [
    "7. (Fonte: Fávero e Belfiore, 2024, Cap. 8) Um grupo de 60 leitores fez uma avaliação de\n",
    "três livros de romance e, ao final, escolheram uma das três opções. Teste a hipótese nula\n",
    "de que não há diferença na preferência dos leitores, ao nível de significância de 5%.\n",
    "Os dados estão disponíveis na planilha Lista de Exercício Complementares: aba Exercício\n"
   ]
  },
  {
   "cell_type": "markdown",
   "metadata": {},
   "source": [
    "8. Foram coletados dados sobre a quantidade de chuva por dia (em milímetros), durante\n",
    "14 dias, para dois locais distintos. O pesquisador notou que o local A aparenta ter maior\n",
    "variabilidade na quantidade chuva, comparativamente ao local B. Neste sentido, deseja\n",
    "testar a hipótese de que a variabilidade na quantidade de chuva é significativamente maior\n",
    "em A do que em B. Realize o teste F para testar tal hipótese.\n",
    "Os dados estão disponíveis na planilha Lista de Exercício Complementares: aba Exercício\n",
    "\n"
   ]
  },
  {
   "cell_type": "markdown",
   "metadata": {},
   "source": [
    "9. (Fonte: Fávero e Belfiore, 2024, Cap. 7) Deseja-se comparar o tempo médio de espera\n",
    "para atendimento (min) em 2 hospitais. Para isso, coletou-se uma amostra com 20\n",
    "pacientes em cada hospital. Verifique se há diferenças entre os tempos médios de espera\n",
    "nos dois hospitais. Considere α = 1%.\n",
    "Adicionalmente, calcule os intervalos de confiança para o tempo médio de espera nos\n",
    "dois hospitais.\n",
    "Os dados estão disponíveis na planilha Lista de Exercício Complementares: aba Exercício\n"
   ]
  },
  {
   "cell_type": "markdown",
   "metadata": {},
   "source": [
    "10.Um fabricante de iogurtes desnatados afirma\n",
    "que a quantidade de calorias em cada pote é 60 cal. Para verificar se essa informação\n",
    "procede, uma amostra aleatória com 36 potes é coletada, observando-se que a quantidade\n",
    "média de calorias é de 65 cal com desvio-padrão 3,5. Aplique o teste adequado e verifique\n",
    "se a afirmação do fabricante é verdadeira, considerando o nível de significância de 5%."
   ]
  },
  {
   "cell_type": "markdown",
   "metadata": {},
   "source": [
    "11.Em uma indústria alimentícia, para a preparação de certo produto, a quantidade padrão\n",
    "de sal são 8g com desvio padrão igual a 1g. Na análise de uma amostra de 85 produtos,\n",
    "foi observada uma quantidade média de sal de 8,25g. Avalie se a quantidade observada\n",
    "na amostra pode ser considerada estatisticamente maior, ao nível de significância de 5%."
   ]
  },
  {
   "cell_type": "markdown",
   "metadata": {},
   "source": [
    "12. Em uma amostra de 425 medições, observou-se que o peso médio dos produtos que\n",
    "foram medidos é 226g, com desvio padrão de 10g. Estabeleça o intervalo de confiança\n",
    "para esta média, sabendo que o desvio padrão observado é exatamente seu valor histórico.\n",
    "Considere um nível de confiança de 95%."
   ]
  }
 ],
 "metadata": {
  "language_info": {
   "name": "python"
  }
 },
 "nbformat": 4,
 "nbformat_minor": 2
}
